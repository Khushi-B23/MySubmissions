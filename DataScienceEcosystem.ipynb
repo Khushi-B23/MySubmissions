{
 "cells": [
  {
   "cell_type": "markdown",
   "id": "870e15e5-8468-4950-9d25-596d28869537",
   "metadata": {},
   "source": [
    "# **Data Science Tools and Ecosystem**"
   ]
  },
  {
   "cell_type": "markdown",
   "id": "b3385fd7-dbef-4144-b70e-447be8cea72b",
   "metadata": {},
   "source": [
    "# ***In this notebook, Data Science Tools and Ecosystem are summarized.***"
   ]
  },
  {
   "cell_type": "markdown",
   "id": "39db7046-e71c-4af2-bb2a-7b9e9a617c23",
   "metadata": {},
   "source": [
    "# **Some of the popular languages that Data Scientists use are:**\n",
    "    1.Python\n",
    "    2.R\n",
    "    3.SQL\n",
    "    4.Julia\n",
    "    5.Scala"
   ]
  },
  {
   "cell_type": "markdown",
   "id": "54a6211a-fcde-4602-9436-805e14729fc2",
   "metadata": {},
   "source": [
    "# **Some of the commonly used libraries used by Data Scientists include:**\n",
    "    1. matplotlib\n",
    "    2. numpy\n",
    "    3. pandas\n",
    "    4. seaborn\n",
    "    5. scikit-learn\n"
   ]
  },
  {
   "cell_type": "markdown",
   "id": "6fd9d187-38a4-42d0-b97f-a965ca4febae",
   "metadata": {},
   "source": [
    "# Table\n",
    "| Data Science Tools|\n",
    "|-------------------|\n",
    "| jupyter |\n",
    "| jupyerLite |\n",
    "| Google Collab |"
   ]
  },
  {
   "cell_type": "markdown",
   "id": "ff6ccb51-824c-4f8b-b6c1-c61feafb7476",
   "metadata": {},
   "source": [
    "### Below are a few examples of evaluating arithmetic expressions in Python : \n",
    " * $x^2$\n",
    " * $x*y$\n",
    " * $y+z$"
   ]
  },
  {
   "cell_type": "code",
   "execution_count": 7,
   "id": "43e383ef-801d-4e7c-9115-fbdde4bb355c",
   "metadata": {},
   "outputs": [
    {
     "data": {
      "text/plain": [
       "17"
      ]
     },
     "execution_count": 7,
     "metadata": {},
     "output_type": "execute_result"
    }
   ],
   "source": [
    "# This a simple arithmetic expression to mutiply then add integers\n",
    "(3*4)+5"
   ]
  },
  {
   "cell_type": "code",
   "execution_count": 8,
   "id": "5966770b-6d0e-42f1-87eb-cdd6ca716d46",
   "metadata": {},
   "outputs": [
    {
     "data": {
      "text/plain": [
       "3.33"
      ]
     },
     "execution_count": 8,
     "metadata": {},
     "output_type": "execute_result"
    }
   ],
   "source": [
    "# This will convert 200 minutes to hours by diving by 60\n",
    "min=200\n",
    "hr=min/60\n",
    "round(hr,2)"
   ]
  },
  {
   "cell_type": "markdown",
   "id": "71cad958-c99d-4822-ab77-8ed6a2ccae28",
   "metadata": {},
   "source": [
    "# **Objectives:**\n",
    "* List popular languages for Data Science\n",
    "* List commonly used libraries for Data Science\n",
    "* Show how to create tables in markdown cells\n",
    "* Show how to write expressions in markdown cells\n",
    "* Evaluate expressions in code cells and show result"
   ]
  },
  {
   "cell_type": "markdown",
   "id": "f26daaac-dd8c-4450-8c96-b139330fda87",
   "metadata": {},
   "source": [
    "## Author\n",
    "Khushi Bhupesh"
   ]
  }
 ],
 "metadata": {
  "kernelspec": {
   "display_name": "Python 3 (ipykernel)",
   "language": "python",
   "name": "python3"
  },
  "language_info": {
   "codemirror_mode": {
    "name": "ipython",
    "version": 3
   },
   "file_extension": ".py",
   "mimetype": "text/x-python",
   "name": "python",
   "nbconvert_exporter": "python",
   "pygments_lexer": "ipython3",
   "version": "3.11.5"
  }
 },
 "nbformat": 4,
 "nbformat_minor": 5
}
